{
 "cells": [
  {
   "cell_type": "markdown",
   "metadata": {},
   "source": [
    "# Aula 19 – O que é um boxplot e como calcular"
   ]
  },
  {
   "cell_type": "markdown",
   "metadata": {},
   "source": [
    "Objetivos: entender o conceito de boxplot (teórico) utilizando matemática, para posteriormente poder criar o código em Python para programar a criação desse tipo de gráfico. Esse conceito depende do conceito de quartil e percentil (o vídeo de pré-requisito é recomendado no início dessa aula).\n",
    "    https://didatica.tech/curso-de-python-para-machine-learning-e-ciencia-de-dados-gratuito/"
   ]
  },
  {
   "cell_type": "code",
   "execution_count": null,
   "metadata": {},
   "outputs": [],
   "source": []
  }
 ],
 "metadata": {
  "kernelspec": {
   "display_name": "Python 3",
   "language": "python",
   "name": "python3"
  },
  "language_info": {
   "codemirror_mode": {
    "name": "ipython",
    "version": 3
   },
   "file_extension": ".py",
   "mimetype": "text/x-python",
   "name": "python",
   "nbconvert_exporter": "python",
   "pygments_lexer": "ipython3",
   "version": "3.7.4"
  }
 },
 "nbformat": 4,
 "nbformat_minor": 2
}
